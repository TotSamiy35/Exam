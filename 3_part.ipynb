{
 "cells": [
  {
   "cell_type": "code",
   "execution_count": 1,
   "id": "34edd5db",
   "metadata": {},
   "outputs": [],
   "source": [
    "import os\n",
    "from Bio import SeqIO"
   ]
  },
  {
   "cell_type": "markdown",
   "id": "25f90d9c",
   "metadata": {},
   "source": [
    "## Фильтруем выравнивания с помощью gBlocks"
   ]
  },
  {
   "cell_type": "code",
   "execution_count": 6,
   "id": "9ecd1f67",
   "metadata": {},
   "outputs": [
    {
     "name": "stdout",
     "output_type": "stream",
     "text": [
      "\r\n",
      "10 sequences and 1617 positions in the first alignment file:\r\n",
      "16S_sequences_aligned.fasta\r\n",
      "\r\n",
      "16S_sequences_aligned.fasta\r\n",
      "Original alignment: 1617 positions\r\n",
      "Gblocks alignment:  1167 positions (72 %) in 22 selected block(s)\r\n",
      "\r\n"
     ]
    }
   ],
   "source": [
    "# Выполняем bash-команду\n",
    "!./Gblocks 16S_sequences_aligned.fasta g    # просим Gblocks отфильтровать наше выравнивание чтобы убрать шум\n",
    "\n",
    "# Переводим результат в формат phylip\n",
    "SeqIO.convert(f'{ALIGNEMENT_FILENAME}-gb', 'fasta',    # было\n",
    "              BLOCKS_FILENAME, 'phylip-relaxed')    # стало\n",
    "\n",
    "os.remove(f'{ALIGNEMENT_FILENAME}-gb') # удаляем старый файл"
   ]
  }
 ],
 "metadata": {
  "kernelspec": {
   "display_name": "Python 3",
   "language": "python",
   "name": "python3"
  },
  "language_info": {
   "codemirror_mode": {
    "name": "ipython",
    "version": 3
   },
   "file_extension": ".py",
   "mimetype": "text/x-python",
   "name": "python",
   "nbconvert_exporter": "python",
   "pygments_lexer": "ipython3",
   "version": "3.8.5"
  }
 },
 "nbformat": 4,
 "nbformat_minor": 5
}
