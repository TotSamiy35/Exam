{
 "cells": [
  {
   "cell_type": "code",
   "execution_count": 1,
   "id": "34edd5db",
   "metadata": {},
   "outputs": [],
   "source": [
    "from Bio.Align.Applications import MuscleCommandline"
   ]
  },
  {
   "cell_type": "markdown",
   "id": "264024d3",
   "metadata": {},
   "source": [
    "## Выравнивание с помощью MUSCLE"
   ]
  },
  {
   "cell_type": "code",
   "execution_count": 5,
   "id": "e4acf225",
   "metadata": {
    "scrolled": false
   },
   "outputs": [
    {
     "name": "stdout",
     "output_type": "stream",
     "text": [
      "\n",
      "MUSCLE v3.8.1551 by Robert C. Edgar\n",
      "\n",
      "http://www.drive5.com/muscle\n",
      "This software is donated to the public domain.\n",
      "Please cite: Edgar, R.C. Nucleic Acids Res 32(5), 1792-97.\n",
      "\n",
      "16S_sequences 10 seqs, lengths min 1400, max 1542, avg 1475\n",
      "00:00:00    15 MB(-1%)  Iter   1    1.82%  K-mer dist pass 1\n",
      "00:00:00    15 MB(-1%)  Iter   1  100.00%  K-mer dist pass 1\n",
      "00:00:00    15 MB(-1%)  Iter   1    1.82%  K-mer dist pass 2\n",
      "00:00:00    15 MB(-1%)  Iter   1  100.00%  K-mer dist pass 2\n",
      "00:00:00    17 MB(-1%)  Iter   1   11.11%  Align node       \n",
      "00:00:00    24 MB(-2%)  Iter   1   22.22%  Align node\n",
      "00:00:00    26 MB(-2%)  Iter   1   33.33%  Align node\n",
      "00:00:00    26 MB(-2%)  Iter   1   44.44%  Align node\n",
      "00:00:00    27 MB(-2%)  Iter   1   55.56%  Align node\n",
      "00:00:00    27 MB(-2%)  Iter   1   66.67%  Align node\n",
      "00:00:00    29 MB(-2%)  Iter   1   77.78%  Align node\n",
      "00:00:00    29 MB(-2%)  Iter   1   88.89%  Align node\n",
      "00:00:00    30 MB(-2%)  Iter   1  100.00%  Align node\n",
      "00:00:00    30 MB(-2%)  Iter   1  100.00%  Align node\n",
      "00:00:00    30 MB(-2%)  Iter   1   10.00%  Root alignment\n",
      "00:00:00    30 MB(-2%)  Iter   1   20.00%  Root alignment\n",
      "00:00:00    30 MB(-2%)  Iter   1   30.00%  Root alignment\n",
      "00:00:00    30 MB(-2%)  Iter   1   40.00%  Root alignment\n",
      "00:00:00    30 MB(-2%)  Iter   1   50.00%  Root alignment\n",
      "00:00:00    30 MB(-2%)  Iter   1   60.00%  Root alignment\n",
      "00:00:00    30 MB(-2%)  Iter   1   70.00%  Root alignment\n",
      "00:00:00    30 MB(-2%)  Iter   1   80.00%  Root alignment\n",
      "00:00:00    30 MB(-2%)  Iter   1   90.00%  Root alignment\n",
      "00:00:00    30 MB(-2%)  Iter   1  100.00%  Root alignment\n",
      "00:00:00    30 MB(-2%)  Iter   1  100.00%  Root alignment\n",
      "00:00:00    30 MB(-2%)  Iter   2   12.50%  Refine tree   \n",
      "00:00:00    30 MB(-2%)  Iter   2   25.00%  Refine tree\n",
      "00:00:00    30 MB(-2%)  Iter   2   37.50%  Refine tree\n",
      "00:00:00    30 MB(-2%)  Iter   2   50.00%  Refine tree\n",
      "00:00:00    30 MB(-2%)  Iter   2   62.50%  Refine tree\n",
      "00:00:00    30 MB(-2%)  Iter   2  100.00%  Refine tree\n",
      "00:00:00    30 MB(-2%)  Iter   2   10.00%  Root alignment\n",
      "00:00:00    30 MB(-2%)  Iter   2   20.00%  Root alignment\n",
      "00:00:00    30 MB(-2%)  Iter   2   30.00%  Root alignment\n",
      "00:00:00    30 MB(-2%)  Iter   2   40.00%  Root alignment\n",
      "00:00:00    30 MB(-2%)  Iter   2   50.00%  Root alignment\n",
      "00:00:00    30 MB(-2%)  Iter   2   60.00%  Root alignment\n",
      "00:00:00    30 MB(-2%)  Iter   2   70.00%  Root alignment\n",
      "00:00:00    30 MB(-2%)  Iter   2   80.00%  Root alignment\n",
      "00:00:00    30 MB(-2%)  Iter   2   90.00%  Root alignment\n",
      "00:00:00    30 MB(-2%)  Iter   2  100.00%  Root alignment\n",
      "00:00:00    30 MB(-2%)  Iter   2  100.00%  Root alignment\n",
      "00:00:00    30 MB(-2%)  Iter   2  100.00%  Root alignment\n",
      "00:00:00    30 MB(-2%)  Iter   3   11.76%  Refine biparts\n",
      "00:00:00    30 MB(-2%)  Iter   3   17.65%  Refine biparts\n",
      "00:00:00    30 MB(-2%)  Iter   3   23.53%  Refine biparts\n",
      "00:00:00    30 MB(-2%)  Iter   3   29.41%  Refine biparts\n",
      "00:00:00    30 MB(-2%)  Iter   3   35.29%  Refine biparts\n",
      "00:00:00    30 MB(-2%)  Iter   3   41.18%  Refine biparts\n",
      "00:00:00    30 MB(-2%)  Iter   3   47.06%  Refine biparts\n",
      "00:00:01    30 MB(-2%)  Iter   3   52.94%  Refine biparts\n",
      "00:00:01    30 MB(-2%)  Iter   3   58.82%  Refine biparts\n",
      "00:00:01    30 MB(-2%)  Iter   3   64.71%  Refine biparts\n",
      "00:00:01    30 MB(-2%)  Iter   3   70.59%  Refine biparts\n",
      "00:00:01    30 MB(-2%)  Iter   3   76.47%  Refine biparts\n",
      "00:00:01    30 MB(-2%)  Iter   3   82.35%  Refine biparts\n",
      "00:00:01    30 MB(-2%)  Iter   3   88.24%  Refine biparts\n",
      "00:00:01    30 MB(-2%)  Iter   3   94.12%  Refine biparts\n",
      "00:00:01    30 MB(-2%)  Iter   3  100.00%  Refine biparts\n",
      "00:00:01    30 MB(-2%)  Iter   3  105.88%  Refine biparts\n",
      "00:00:01    30 MB(-2%)  Iter   3  100.00%  Refine biparts\n",
      "00:00:01    30 MB(-2%)  Iter   4   11.76%  Refine biparts\n",
      "00:00:01    30 MB(-2%)  Iter   4   17.65%  Refine biparts\n",
      "00:00:01    30 MB(-2%)  Iter   4   23.53%  Refine biparts\n",
      "00:00:01    30 MB(-2%)  Iter   4   29.41%  Refine biparts\n",
      "00:00:01    30 MB(-2%)  Iter   4   35.29%  Refine biparts\n",
      "00:00:01    30 MB(-2%)  Iter   4   41.18%  Refine biparts\n",
      "00:00:01    30 MB(-2%)  Iter   4   47.06%  Refine biparts\n",
      "00:00:01    30 MB(-2%)  Iter   4   52.94%  Refine biparts\n",
      "00:00:01    30 MB(-2%)  Iter   4   58.82%  Refine biparts\n",
      "00:00:01    30 MB(-2%)  Iter   4   64.71%  Refine biparts\n",
      "00:00:01    30 MB(-2%)  Iter   4   70.59%  Refine biparts\n",
      "00:00:01    30 MB(-2%)  Iter   4   76.47%  Refine biparts\n",
      "00:00:01    30 MB(-2%)  Iter   4   82.35%  Refine biparts\n",
      "00:00:01    30 MB(-2%)  Iter   4   88.24%  Refine biparts\n",
      "00:00:01    30 MB(-2%)  Iter   4   94.12%  Refine biparts\n",
      "00:00:01    30 MB(-2%)  Iter   4  100.00%  Refine biparts\n",
      "00:00:01    30 MB(-2%)  Iter   4  105.88%  Refine biparts\n",
      "00:00:01    30 MB(-2%)  Iter   4  100.00%  Refine biparts\n",
      "00:00:01    30 MB(-2%)  Iter   5   11.76%  Refine biparts\n",
      "00:00:01    30 MB(-2%)  Iter   5   17.65%  Refine biparts\n",
      "00:00:02    30 MB(-2%)  Iter   5   23.53%  Refine biparts\n",
      "00:00:02    30 MB(-2%)  Iter   5   29.41%  Refine biparts\n",
      "00:00:02    30 MB(-2%)  Iter   5   35.29%  Refine biparts\n",
      "00:00:02    30 MB(-2%)  Iter   5   41.18%  Refine biparts\n",
      "00:00:02    30 MB(-2%)  Iter   5  100.00%  Refine biparts\n",
      "00:00:02    30 MB(-2%)  Iter   5  100.00%  Refine biparts\n",
      "\n"
     ]
    }
   ],
   "source": [
    "# Обертка версии MUSCLE для командной стоки (программа должна быть установлена в системе)\n",
    "muscle_cline = MuscleCommandline(\n",
    "    input=RAW_SEQ_FILENAME,\n",
    "    out=ALIGNEMENT_FILENAME,\n",
    ")\n",
    "stdout, stderr = muscle_cline()    # запускаем программу с указанными аргументами\n",
    "print(stderr)"
   ]
  }
 ],
 "metadata": {
  "kernelspec": {
   "display_name": "Python 3",
   "language": "python",
   "name": "python3"
  },
  "language_info": {
   "codemirror_mode": {
    "name": "ipython",
    "version": 3
   },
   "file_extension": ".py",
   "mimetype": "text/x-python",
   "name": "python",
   "nbconvert_exporter": "python",
   "pygments_lexer": "ipython3",
   "version": "3.8.5"
  }
 },
 "nbformat": 4,
 "nbformat_minor": 5
}
