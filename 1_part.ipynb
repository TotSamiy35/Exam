{
 "cells": [
  {
   "cell_type": "code",
   "execution_count": 1,
   "id": "34edd5db",
   "metadata": {},
   "outputs": [],
   "source": [
    "import os\n",
    "import re\n",
    "\n",
    "from Bio import Entrez\n",
    "from Bio import SeqIO\n",
    "\n",
    "Entrez.email = \"katerina.koptelova@yandex.ru\""
   ]
  },
  {
   "cell_type": "markdown",
   "id": "34c0885c",
   "metadata": {},
   "source": [
    "## Определяем интересующие нас штаммы"
   ]
  },
  {
   "cell_type": "markdown",
   "id": "2b20685a",
   "metadata": {},
   "source": [
    "Перечисляем названия организмов и штаммы, для которых хотим строить дерево (штамм можно не указывать)"
   ]
  },
  {
   "cell_type": "code",
   "execution_count": 2,
   "id": "150e7dab",
   "metadata": {},
   "outputs": [],
   "source": [
    "# Археи\n",
    "organisms = [ # (organism, strain)\n",
    "    ('Archaeoglobus fulgidus', 'VC-16'),\n",
    "    ('Ignicoccus hospitalis', 'KIN4/I'),\n",
    "    ('Methanocaldococcus jannaschii', 'JCM 10045'),\n",
    "    ('Methanococcus maripaludis', 'JJ'),\n",
    "    ('Decoy', 'junk'),    # Такого в базах точно нет, скрипт отработает с предупреждением\n",
    "    ('Pyrobaculum aerophilum', 'IM2'),\n",
    "    ('Pyrobaculum calidifontis', 'VA1'),\n",
    "    ('Pyrococcus horikoshii', 'JA-1'),\n",
    "    ('Sulfolobus tokodaii', '7'),\n",
    "]\n",
    "\n",
    "# Бактерии\n",
    "outgroup = [\n",
    "    ('Desulfovibrio piger', 'ATCC 29098'),\n",
    "    ('Herpetosiphon aurantiacus', ''),\n",
    "    ('Rhodopirellula baltica', 'SH 1'),\n",
    "]"
   ]
  },
  {
   "cell_type": "markdown",
   "id": "32a2ef86",
   "metadata": {},
   "source": [
    "## Получение данных из RefSeq"
   ]
  },
  {
   "cell_type": "code",
   "execution_count": 3,
   "id": "44edf0ae",
   "metadata": {},
   "outputs": [],
   "source": [
    "# 16S RefSeq Nucleotide sequence records\n",
    "# https://www.ncbi.nlm.nih.gov/refseq/targetedloci/16S_process/\n",
    "REFSEQ_16S_RNA_TERM = '33175[BioProject] OR 33317[BioProject]'    # Курируемая база 16S РНК бактерий и архей (очень хорошая)\n",
    "\n",
    "# Задаем имена файлов\n",
    "RAW_SEQ_FILENAME = '16S_sequences.fasta'    # файл с сырыми последовательностями\n",
    "ALIGNEMENT_FILENAME = '16S_sequences_aligned.fasta'    # файл с выравниваниями\n",
    "BLOCKS_FILENAME = '16S_sequences_blocks.phylip'    # файл с очищенными выравниваниями\n",
    "ML_TREE_NAME = 'Bacteria_MLTree.newick'    # файл с деревом"
   ]
  },
  {
   "cell_type": "code",
   "execution_count": 4,
   "id": "0736a8f8",
   "metadata": {
    "scrolled": false
   },
   "outputs": [
    {
     "name": "stdout",
     "output_type": "stream",
     "text": [
      "For        \"Archaeoglobus fulgidus VC-16\" was retrieved:\n",
      "NR_118873.1 Archaeoglobus fulgidus DSM 4304 strain VC-16 16S ribosomal RNA, complete sequence\n",
      "\n",
      "For        \"Ignicoccus hospitalis KIN4/I\" was retrieved:\n",
      "NR_074104.1 Ignicoccus hospitalis strain KIN4/I 16S ribosomal RNA, complete sequence\n",
      "\n",
      "For        \"Methanocaldococcus jannaschii JCM 10045\" was retrieved:\n",
      "NR_113292.1 Methanocaldococcus jannaschii strain JCM 10045 16S ribosomal RNA, partial sequence\n",
      "\n",
      "For        \"Methanococcus maripaludis JJ\" was retrieved:\n",
      "NR_104984.1 Methanococcus maripaludis strain JJ 16S ribosomal RNA, partial sequence\n",
      "\n",
      "!!!\n",
      "Warning! No items found for Decoy junk\n",
      "\n",
      "For        \"Pyrobaculum aerophilum IM2\" was retrieved:\n",
      "NR_102764.2 Pyrobaculum aerophilum str. IM2 16S ribosomal RNA, complete sequence\n",
      "\n",
      "For        \"Pyrobaculum calidifontis VA1\" was retrieved:\n",
      "NR_040922.1 Pyrobaculum calidifontis JCM 11548 strain VA1 16S ribosomal RNA, complete sequence\n",
      "\n",
      "For        \"Pyrococcus horikoshii JA-1\" was retrieved:\n",
      "NR_029054.1 Pyrococcus horikoshii strain JA-1 16S ribosomal RNA, partial sequence\n",
      "\n",
      "!!!\n",
      "Warning! For \"Sulfolobus tokodaii 7\" was find just\n",
      "  NR_028609.1 Sulfurisphaera tokodaii strain 7 16S ribosomal RNA, partial sequence\n",
      "\n",
      "For        \"Desulfovibrio piger ATCC 29098\" was retrieved:\n",
      "NR_041778.1 Desulfovibrio piger strain ATCC 29098 16S ribosomal RNA, partial sequence\n",
      "\n",
      "For        \"Herpetosiphon aurantiacus \" was retrieved:\n",
      "NR_074236.1 Herpetosiphon aurantiacus 16S ribosomal RNA, partial sequence\n",
      "\n",
      "For        \"Rhodopirellula baltica SH 1\" was retrieved:\n",
      "NR_043384.1 Rhodopirellula baltica SH 1 16S ribosomal RNA, partial sequence\n",
      "\n"
     ]
    }
   ],
   "source": [
    "full_names = {} # словарь с полными именами\n",
    "taxonomy = {} # словарь с таксономией\n",
    "\n",
    "with open(RAW_SEQ_FILENAME, 'w') as output_handle:    # открываем файл в режиме записи\n",
    "    for organism, strain in organisms + outgroup:    # итерируемся по объединенному списку организмов (организмы + аутгруппа)\n",
    "        \n",
    "        # Запрос к базе данных\n",
    "        query = f'\"{organism}\"[Organism]' # \"название организма\"[Strain]\n",
    "        if strain:\n",
    "            query += f' AND \"{strain}\"[Strain]'\n",
    "        \n",
    "        # Выполняем поиск\n",
    "        # Я СКОПИПАСТИЛА ЭТО ИЗ ПРИМЕРА\n",
    "        handle = Entrez.esearch(db='nucleotide',    # база данных поиска\n",
    "                                term=f'({REFSEQ_16S_RNA_TERM}) AND ({query})',    # запрос к базе\n",
    "                                sort='Date Modified')    # сортируем по свежести\n",
    "        record = Entrez.read(handle)    # преобразуем handle в читаемый вид\n",
    "        \n",
    "        # Проверка на то, нашлось ли что-либо по запросу\n",
    "        if int(record[\"Count\"]) == 0:\n",
    "            print(f'!!!\\nWarning! No items found for {organism} {strain}\\n')\n",
    "            continue\n",
    "        \n",
    "        # Выбираем самый свежий результат и получаем последовательность\n",
    "        seq_id = record['IdList'][0]    # берем самый свежий результат\n",
    "        handle = Entrez.efetch(db='nucleotide',     # достаём (база данных поиска\n",
    "                               id=seq_id,    # айдишник, получен строчкой выше\n",
    "                               rettype=\"fasta\")    # тип ответа)\n",
    "        seq = SeqIO.read(handle, format='fasta')\n",
    "               \n",
    "        # Проверка на соответствие результата запросу\n",
    "        if not (re.search(organism, seq.description) and re.search(strain, seq.description)):\n",
    "            # если не (нашлось имя организма в результате и нашлось имя штамма в результате):\n",
    "            print(f'!!!\\nWarning! For \"{organism} {strain}\" was find just\\n  {seq.description}\\n')\n",
    "            continue\n",
    "        \n",
    "        # Для верификации результата получим таксономические данные\n",
    "        handle = Entrez.efetch(db='nucleotide', \n",
    "                               id=seq_id,\n",
    "                               rettype=\"gb\",\n",
    "                               retmode='xml')\n",
    "        taxonomy[seq.id] = Entrez.read(handle)[0]['GBSeq_taxonomy']    # запоминаем таксон по айдишнику чтобы в конце верифицировать дерево\n",
    "        \n",
    "        # В ходе обработки будем использовать короткие имена\n",
    "        full_names[seq.id] = seq.description\n",
    "        print(f'For        \"{organism} {strain}\" was retrieved:\\n{seq.description}\\n')\n",
    "        seq.description = ''\n",
    "        \n",
    "        # Записываем последовательность в файл\n",
    "        SeqIO.write(seq, output_handle, \"fasta\")"
   ]
  }
 ],
 "metadata": {
  "kernelspec": {
   "display_name": "Python 3",
   "language": "python",
   "name": "python3"
  },
  "language_info": {
   "codemirror_mode": {
    "name": "ipython",
    "version": 3
   },
   "file_extension": ".py",
   "mimetype": "text/x-python",
   "name": "python",
   "nbconvert_exporter": "python",
   "pygments_lexer": "ipython3",
   "version": "3.8.5"
  }
 },
 "nbformat": 4,
 "nbformat_minor": 5
}
